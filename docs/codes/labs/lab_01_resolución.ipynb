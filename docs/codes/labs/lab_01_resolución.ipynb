{
  "cells": [
    {
      "cell_type": "markdown",
      "id": "e2696553",
      "metadata": {
        "id": "e2696553"
      },
      "source": [
        "<a href=\"https://colab.research.google.com/github/fralfaro/MAT281/blob/main/docs/labs/lab_01.ipynb\" target=\"_parent\"><img src=\"https://colab.research.google.com/assets/colab-badge.svg\" alt=\"Open In Colab\"/></a>\n",
        "\n",
        "\n",
        "# MAT281 - Laboratorio N°01\n",
        "\n",
        "\n",
        "**Objetivos del Laboratorio**\n",
        "\n",
        "* Implementar funciones en Python para resolver problemas matemáticos clásicos.\n",
        "* Aplicar estructuras básicas como ciclos y condicionales en contextos numéricos.\n",
        "* Comprender y programar conceptos como series, factoriales, divisores, primos y secuencias.\n",
        "* Desarrollar pensamiento algorítmico y habilidades de resolución estructurada de problemas.\n"
      ]
    },
    {
      "cell_type": "markdown",
      "id": "a869ace0",
      "metadata": {
        "id": "a869ace0"
      },
      "source": [
        "## Problema 01 — Aproximando $\\pi$ con una serie infinita\n",
        "\n",
        "En los siglos XVII y XVIII, los matemáticos **James Gregory** y **Gottfried Leibniz** descubrieron una serie infinita que permite aproximar el valor de $\\pi$. Esta serie, conocida como la *serie de Gregory-Leibniz*, se expresa como:\n",
        "\n",
        "$$\n",
        "\\pi = 4 \\sum_{k=1}^{\\infty} \\frac{(-1)^{k+1}}{2k - 1} = 4\\left(1 - \\frac{1}{3} + \\frac{1}{5} - \\frac{1}{7} + \\cdots\\right)\n",
        "$$\n",
        "\n",
        "Esta fórmula converge lentamente, pero es útil para entender cómo se puede aproximar un número irracional como $\\pi$ mediante una suma finita.\n",
        "\n",
        "**Tu tarea**\n",
        "\n",
        "Implementa una **función llamada `calcular_pi(n)`** que reciba como argumento un número entero $n$ e **importe los primeros $n$ términos de la serie** para entregar una aproximación del valor de $\\pi$.\n",
        "\n",
        "\n",
        "\n",
        "\n",
        "\n",
        "**Ejemplos de uso**\n",
        "\n",
        "```python\n",
        "calcular_pi(3)     # Resultado esperado: 3.466666...\n",
        "calcular_pi(1000)  # Resultado esperado: ~3.140592...\n",
        "```\n",
        "\n"
      ]
    },
    {
      "cell_type": "markdown",
      "source": [
        "##Código Problema 01:\n"
      ],
      "metadata": {
        "id": "bEfdre0mR123"
      },
      "id": "bEfdre0mR123"
    },
    {
      "cell_type": "code",
      "execution_count": 26,
      "id": "dd54e855",
      "metadata": {
        "id": "dd54e855"
      },
      "outputs": [],
      "source": [
        "def calcular_pi(n):\n",
        "  suma = 0\n",
        "  for k in range(1, n+1):\n",
        "    denominador= (2*k - 1)\n",
        "    numerador= (-1)**(k+1)\n",
        "    suma += numerador/denominador\n",
        "  return 4*suma"
      ]
    },
    {
      "cell_type": "code",
      "source": [
        "print(calcular_pi(3))\n",
        "print(calcular_pi(1000))"
      ],
      "metadata": {
        "id": "w10pbd0Bj5oB",
        "colab": {
          "base_uri": "https://localhost:8080/"
        },
        "outputId": "4b566a2d-5a9f-4453-da2b-101785a5bfb6"
      },
      "id": "w10pbd0Bj5oB",
      "execution_count": 27,
      "outputs": [
        {
          "output_type": "stream",
          "name": "stdout",
          "text": [
            "3.466666666666667\n",
            "3.140592653839794\n"
          ]
        }
      ]
    },
    {
      "cell_type": "markdown",
      "id": "c26be634",
      "metadata": {
        "id": "c26be634"
      },
      "source": [
        "\n",
        "## Problema 02 — Aproximando $e$ con la serie de Euler\n",
        "\n",
        "El número **$e$** es una constante matemática fundamental, al igual que $\\pi$. Se encuentra en el corazón del cálculo, el crecimiento exponencial y muchas aplicaciones científicas. Uno de sus grandes impulsores fue **Leonhard Euler**, quien en 1748 publicó su obra *Introductio in analysin infinitorum*, donde describió formalmente la siguiente serie infinita para aproximar su valor:\n",
        "\n",
        "$$\n",
        "e = \\sum_{k=0}^{\\infty} \\frac{1}{k!} = 1 + \\frac{1}{1!} + \\frac{1}{2!} + \\frac{1}{3!} + \\cdots\n",
        "$$\n",
        "\n",
        "Esta fórmula permite calcular $e$ sumando una cantidad finita de términos.\n",
        "\n",
        "\n",
        "\n",
        "**Tu tarea**\n",
        "\n",
        "1. **Parte A**: Define una función llamada `factorial(n)` que reciba un número natural $n$ y retorne el valor de su factorial $n! = 1 \\cdot 2 \\cdot \\ldots \\cdot n$.\n",
        "\n",
        "2. **Parte B**: Usando esa función, crea otra función llamada `calcular_e(n)` que reciba un número entero $n$ y devuelva una aproximación del número $e$ sumando los primeros $n$ términos de la serie.\n",
        "\n",
        "\n",
        "\n",
        "**Ejemplos de uso**\n",
        "\n",
        "```python\n",
        "factorial(3)     # Resultado esperado: 6\n",
        "factorial(5)     # Resultado esperado: 120\n",
        "\n",
        "calcular_e(3)     # Resultado esperado: 2.666...\n",
        "calcular_e(1000)  # Resultado esperado: ~2.718281828...\n",
        "```\n",
        "\n"
      ]
    },
    {
      "cell_type": "markdown",
      "source": [
        "##Código Problema 02:"
      ],
      "metadata": {
        "id": "0v8N9x6HR5EE"
      },
      "id": "0v8N9x6HR5EE"
    },
    {
      "cell_type": "markdown",
      "source": [
        "Parte A:"
      ],
      "metadata": {
        "id": "ccM-bcj1R9B-"
      },
      "id": "ccM-bcj1R9B-"
    },
    {
      "cell_type": "code",
      "source": [
        "def factorial(n):\n",
        "  if n == 0:\n",
        "    return 1\n",
        "  for i in range(1,n):\n",
        "    n = n*i\n",
        "  return n"
      ],
      "metadata": {
        "id": "U5AhmZEaFymQ"
      },
      "id": "U5AhmZEaFymQ",
      "execution_count": 23,
      "outputs": []
    },
    {
      "cell_type": "code",
      "source": [
        "print(factorial(3))\n",
        "print(factorial(5))"
      ],
      "metadata": {
        "colab": {
          "base_uri": "https://localhost:8080/"
        },
        "id": "CgOGLy7gCOrR",
        "outputId": "0c1f851d-5a6d-4e99-ce1a-3f319a8c75f5"
      },
      "id": "CgOGLy7gCOrR",
      "execution_count": 24,
      "outputs": [
        {
          "output_type": "stream",
          "name": "stdout",
          "text": [
            "6\n",
            "120\n"
          ]
        }
      ]
    },
    {
      "cell_type": "markdown",
      "source": [
        "Parte B:"
      ],
      "metadata": {
        "id": "Zp8ulBNvR-jY"
      },
      "id": "Zp8ulBNvR-jY"
    },
    {
      "cell_type": "code",
      "source": [
        "def calcular_e(n):\n",
        "  suma = 0\n",
        "  for k in range(0, n+1):\n",
        "    num = 1\n",
        "    den = factorial(k)\n",
        "    suma += num/den\n",
        "  return suma"
      ],
      "metadata": {
        "id": "xG8K9PUTCu7F"
      },
      "id": "xG8K9PUTCu7F",
      "execution_count": 21,
      "outputs": []
    },
    {
      "cell_type": "code",
      "source": [
        "print(calcular_e(3))\n",
        "print(calcular_e(1000))"
      ],
      "metadata": {
        "colab": {
          "base_uri": "https://localhost:8080/"
        },
        "id": "n5CSmprDkvXT",
        "outputId": "20d485b1-47a8-4489-f119-b07ac718faad"
      },
      "id": "n5CSmprDkvXT",
      "execution_count": 25,
      "outputs": [
        {
          "output_type": "stream",
          "name": "stdout",
          "text": [
            "2.6666666666666665\n",
            "2.7182818284590455\n"
          ]
        }
      ]
    },
    {
      "cell_type": "markdown",
      "id": "9707be93",
      "metadata": {
        "id": "9707be93"
      },
      "source": [
        "## Problema 03 — Números amigos y suma de divisores propios\n",
        "\n",
        "Dado un número natural $n$, se define $\\sigma(n)$ como la **suma de sus divisores propios**, es decir, aquellos números positivos menores que $n$ que lo dividen exactamente.\n",
        "\n",
        "Dos números naturales $n_1$ y $n_2$ se consideran **números amigos** si cumplen la siguiente condición:\n",
        "\n",
        "$$\n",
        "\\sigma(n_1) = n_2 \\quad \\text{y} \\quad \\sigma(n_2) = n_1\n",
        "$$\n",
        "\n",
        "Un ejemplo clásico de números amigos es el par $220$ y $284$:\n",
        "\n",
        "* Los divisores propios de $220$ son: $1, 2, 4, 5, 10, 11, 20, 22, 44, 55, 110$, y su suma es $284$.\n",
        "* Los divisores propios de $284$ son: $1, 2, 4, 71, 142$, y su suma es $220$.\n",
        "\n",
        "**Tu tarea**\n",
        "\n",
        "1. **Parte A**: Define una función llamada `divisores_propios(n)` que reciba un número natural $n$ y retorne una **lista** con todos sus divisores propios.\n",
        "\n",
        "2. **Parte B**: Usando esa función, implementa una función llamada `amigos(n1, n2)` que retorne `True` si los números son amigos y `False` en caso contrario.\n",
        "\n",
        "**Ejemplos de uso**\n",
        "\n",
        "```python\n",
        "divisores_propios(220)  # Resultado esperado: [1, 2, 4, 5, 10, 11, 20, 22, 44, 55, 110]\n",
        "divisores_propios(284)  # Resultado esperado: [1, 2, 4, 71, 142]\n",
        "\n",
        "amigos(220, 284)        # Resultado esperado: True\n",
        "amigos(6, 5)            # Resultado esperado: False\n",
        "```\n"
      ]
    },
    {
      "cell_type": "markdown",
      "source": [
        "## Código Problema 03:"
      ],
      "metadata": {
        "id": "0SnJEFtnSAc_"
      },
      "id": "0SnJEFtnSAc_"
    },
    {
      "cell_type": "markdown",
      "source": [
        "Parte A:"
      ],
      "metadata": {
        "id": "PWkaY4bCSCwp"
      },
      "id": "PWkaY4bCSCwp"
    },
    {
      "cell_type": "code",
      "execution_count": 17,
      "id": "e695ea21",
      "metadata": {
        "id": "e695ea21"
      },
      "outputs": [],
      "source": [
        "def divisores_propios(n):\n",
        "  lista = []\n",
        "  for i in range(1, n):\n",
        "    if n % i == 0:\n",
        "      lista.append(i)\n",
        "  return lista"
      ]
    },
    {
      "cell_type": "code",
      "source": [
        "print(divisores_propios(220))\n",
        "print(divisores_propios(284))"
      ],
      "metadata": {
        "colab": {
          "base_uri": "https://localhost:8080/"
        },
        "id": "iqHbaLPQHus8",
        "outputId": "62030f7b-2912-42d8-8278-e564ccb13a3e"
      },
      "id": "iqHbaLPQHus8",
      "execution_count": 18,
      "outputs": [
        {
          "output_type": "stream",
          "name": "stdout",
          "text": [
            "[1, 2, 4, 5, 10, 11, 20, 22, 44, 55, 110]\n",
            "[1, 2, 4, 71, 142]\n"
          ]
        }
      ]
    },
    {
      "cell_type": "markdown",
      "source": [
        "Parte B:"
      ],
      "metadata": {
        "id": "eGr52t0xSD9u"
      },
      "id": "eGr52t0xSD9u"
    },
    {
      "cell_type": "code",
      "source": [
        "def amigos(n1,n2):\n",
        "  largo1 = len(divisores_propios(n1))\n",
        "  suma1= 0\n",
        "  for i in range(0, largo1):\n",
        "    suma1 += divisores_propios(n1)[i]\n",
        "\n",
        "  largo2 = len(divisores_propios(n2))\n",
        "  suma2= 0\n",
        "  for i in range(0, largo2):\n",
        "    suma2 += divisores_propios(n2)[i]\n",
        "\n",
        "  if suma1 == n2 and suma2 == n1:\n",
        "    return True\n",
        "  else:\n",
        "    return False\n"
      ],
      "metadata": {
        "id": "5_q0zCtbH25u"
      },
      "id": "5_q0zCtbH25u",
      "execution_count": 19,
      "outputs": []
    },
    {
      "cell_type": "code",
      "source": [
        "print(amigos(220,284))\n",
        "print(amigos(6,5))"
      ],
      "metadata": {
        "colab": {
          "base_uri": "https://localhost:8080/"
        },
        "id": "SzvvEylqJGaj",
        "outputId": "82ece364-abd9-4176-925a-f4aa178e4b99"
      },
      "id": "SzvvEylqJGaj",
      "execution_count": 20,
      "outputs": [
        {
          "output_type": "stream",
          "name": "stdout",
          "text": [
            "True\n",
            "False\n"
          ]
        }
      ]
    },
    {
      "cell_type": "markdown",
      "id": "cf93a039",
      "metadata": {
        "id": "cf93a039"
      },
      "source": [
        "## Problema 04 — La conjetura de Collatz\n",
        "\n",
        "La [conjetura de Collatz](https://en.wikipedia.org/wiki/Collatz_conjecture), también conocida como **conjetura $3n + 1$** o conjetura de Ulam, fue formulada por el matemático **Lothar Collatz** en 1937. A pesar de su sencillez, aún no ha sido demostrada ni refutada para todos los números naturales.\n",
        "\n",
        "La conjetura propone la siguiente regla, aplicable a cualquier número entero positivo:\n",
        "\n",
        "* Si el número es **par**, se divide por 2.\n",
        "* Si el número es **impar**, se multiplica por 3 y se le suma 1.\n",
        "\n",
        "Se repite esta operación con cada nuevo número obtenido. La conjetura afirma que, sin importar el número con el que se comience, **eventualmente se alcanzará el número 1**.\n",
        "\n",
        "**Tu tarea**\n",
        "\n",
        "Implementa una función llamada `collatz(n)` que reciba como argumento un número natural positivo $n$ y retorne una **lista con la secuencia de valores** generados por la conjetura, hasta llegar a 1.\n",
        "\n",
        "**Ejemplo de uso**\n",
        "\n",
        "```python\n",
        "collatz(9)  \n",
        "# Resultado esperado:\n",
        "# [9, 28, 14, 7, 22, 11, 34, 17, 52, 26, 13, 40, 20, 10, 5, 16, 8, 4, 2, 1]\n",
        "```\n",
        "\n"
      ]
    },
    {
      "cell_type": "markdown",
      "source": [
        "## Código Problema 04:"
      ],
      "metadata": {
        "id": "6lFAcXw7SGEH"
      },
      "id": "6lFAcXw7SGEH"
    },
    {
      "cell_type": "code",
      "execution_count": 15,
      "id": "10501a00",
      "metadata": {
        "id": "10501a00"
      },
      "outputs": [],
      "source": [
        "def collatz(n):\n",
        "  lista = [n]\n",
        "  if n != 1:\n",
        "    if n%2 == 0:\n",
        "      lista.extend(collatz(n//2))\n",
        "    else:\n",
        "      lista.extend(collatz((3*n)+1))\n",
        "  return lista"
      ]
    },
    {
      "cell_type": "code",
      "source": [
        "print(collatz(9))"
      ],
      "metadata": {
        "id": "zsCIa9khCZK_",
        "colab": {
          "base_uri": "https://localhost:8080/"
        },
        "outputId": "5470c423-acf3-4c84-cea8-4c87a1a4419b"
      },
      "id": "zsCIa9khCZK_",
      "execution_count": 16,
      "outputs": [
        {
          "output_type": "stream",
          "name": "stdout",
          "text": [
            "[9, 28, 14, 7, 22, 11, 34, 17, 52, 26, 13, 40, 20, 10, 5, 16, 8, 4, 2, 1]\n"
          ]
        }
      ]
    },
    {
      "cell_type": "markdown",
      "id": "d15af4eb",
      "metadata": {
        "id": "d15af4eb"
      },
      "source": [
        "## Problema 05 — La conjetura de Goldbach\n",
        "\n",
        "La [conjetura de Goldbach](https://en.wikipedia.org/wiki/Goldbach%27s_conjecture) es uno de los problemas abiertos más antiguos y famosos de la teoría de números. Fue formulada por el matemático prusiano **Christian Goldbach** en una carta a Euler en 1742, y plantea lo siguiente:\n",
        "\n",
        "> **Todo número par mayor que 2 puede escribirse como la suma de dos números primos.**\n",
        "\n",
        "A pesar de que esta conjetura ha sido verificada para una gran cantidad de números, aún no existe una demostración formal que la confirme para todos los casos posibles.\n",
        "\n",
        "**Tu tarea**\n",
        "\n",
        "Implementa una función llamada `goldbach(n)` que reciba un número natural par mayor que 2 y retorne un par de números primos $n_1$ y $n_2$ tales que $n_1 + n_2 = n$.\n",
        "\n",
        "Para lograrlo, se recomienda dividir el problema en tres partes:\n",
        "\n",
        "1. **Parte A**: Define una función `es_primo(n)` que reciba un número natural $n$ y retorne `True` si es primo, y `False` en caso contrario.\n",
        "\n",
        "2. **Parte B**: Define una función `lista_de_primos(n)` que genere una lista con todos los números primos entre 2 y $n$ (inclusive si corresponde).\n",
        "\n",
        "3. **Parte C**: Utiliza la función anterior dentro de `goldbach(n)` para encontrar dos primos cuya suma sea igual a $n$. Puedes retornar el primer par que cumpla esta condición.\n",
        "\n",
        "**Ejemplos de uso**\n",
        "\n",
        "```python\n",
        "es_primo(3)         # Resultado esperado: True\n",
        "es_primo(4)         # Resultado esperado: False\n",
        "\n",
        "lista_de_primos(4)  # Resultado esperado: [2, 3]\n",
        "lista_de_primos(6)  # Resultado esperado: [2, 3, 5]\n",
        "lista_de_primos(8)  # Resultado esperado: [2, 3, 5, 7]\n",
        "\n",
        "goldbach(4)         # Resultado esperado: (2, 2)\n",
        "goldbach(6)         # Resultado esperado: (3, 3)\n",
        "goldbach(8)         # Resultado esperado: (3, 5)\n",
        "```\n",
        "\n",
        "\n"
      ]
    },
    {
      "cell_type": "markdown",
      "source": [
        "## Código Problema 05:"
      ],
      "metadata": {
        "id": "9PnShiPP6JGW"
      },
      "id": "9PnShiPP6JGW"
    },
    {
      "cell_type": "markdown",
      "source": [
        "Parte A"
      ],
      "metadata": {
        "id": "Wcp7Ze_0H3I5"
      },
      "id": "Wcp7Ze_0H3I5"
    },
    {
      "cell_type": "code",
      "execution_count": 1,
      "id": "cccb4ae0",
      "metadata": {
        "id": "cccb4ae0"
      },
      "outputs": [],
      "source": [
        "def es_primo(n):\n",
        "  if n == 1:\n",
        "    return False\n",
        "  elif n == 2:\n",
        "    return True\n",
        "  else:\n",
        "   for i in range (2,n):\n",
        "    if n % i == 0:\n",
        "      return False\n",
        "    else:\n",
        "      return True"
      ]
    },
    {
      "cell_type": "code",
      "source": [
        "print(es_primo(3))\n",
        "print(es_primo(4))"
      ],
      "metadata": {
        "colab": {
          "base_uri": "https://localhost:8080/"
        },
        "id": "GZCuHClCLSmw",
        "outputId": "55ff707d-3b1b-43fb-8764-191c802555d0"
      },
      "id": "GZCuHClCLSmw",
      "execution_count": 12,
      "outputs": [
        {
          "output_type": "stream",
          "name": "stdout",
          "text": [
            "True\n",
            "False\n"
          ]
        }
      ]
    },
    {
      "cell_type": "markdown",
      "source": [
        "Parte B"
      ],
      "metadata": {
        "id": "2Yu1E_A4Ljd6"
      },
      "id": "2Yu1E_A4Ljd6"
    },
    {
      "cell_type": "code",
      "source": [
        "def lista_de_primos(n):\n",
        "  lista = []\n",
        "  if es_primo(n) == True:\n",
        "    lista.append(n)\n",
        "    return lista\n",
        "  else:\n",
        "    for i in range(2,n+1):\n",
        "      if es_primo(i) == True:\n",
        "        lista.append(i)\n",
        "    return lista"
      ],
      "metadata": {
        "id": "OlyBb04iLZk1"
      },
      "id": "OlyBb04iLZk1",
      "execution_count": 3,
      "outputs": []
    },
    {
      "cell_type": "code",
      "source": [
        "print(lista_de_primos(4))\n",
        "print(lista_de_primos(6))\n",
        "print(lista_de_primos(8))"
      ],
      "metadata": {
        "colab": {
          "base_uri": "https://localhost:8080/"
        },
        "id": "qh4ljR03QlXI",
        "outputId": "04defc52-d861-486a-f2a6-88aeb0e8a5a2"
      },
      "id": "qh4ljR03QlXI",
      "execution_count": 13,
      "outputs": [
        {
          "output_type": "stream",
          "name": "stdout",
          "text": [
            "[2, 3]\n",
            "[2, 3, 5]\n",
            "[2, 3, 5, 7]\n"
          ]
        }
      ]
    },
    {
      "cell_type": "markdown",
      "source": [
        "Parte C"
      ],
      "metadata": {
        "id": "mROsDC7YSKHh"
      },
      "id": "mROsDC7YSKHh"
    },
    {
      "cell_type": "code",
      "source": [
        "def goldbach(n):\n",
        "  lista = lista_de_primos(n)\n",
        "  largo = len(lista)\n",
        "  for i in range(0,largo):\n",
        "    for j in range(i,largo):\n",
        "      if lista[i] + lista[j] == n:\n",
        "        tupla = (lista[i], lista[j])\n",
        "        return tupla\n",
        "  return None"
      ],
      "metadata": {
        "id": "u-KjaSNiSMcM"
      },
      "id": "u-KjaSNiSMcM",
      "execution_count": 7,
      "outputs": []
    },
    {
      "cell_type": "code",
      "source": [
        "print(goldbach(4))\n",
        "print(goldbach(6))\n",
        "print(goldbach(8))"
      ],
      "metadata": {
        "colab": {
          "base_uri": "https://localhost:8080/"
        },
        "id": "A6hG44ntUL-x",
        "outputId": "c136eb65-b8ee-4e8c-c64c-4ef52a3e57d9"
      },
      "id": "A6hG44ntUL-x",
      "execution_count": 14,
      "outputs": [
        {
          "output_type": "stream",
          "name": "stdout",
          "text": [
            "(2, 2)\n",
            "(3, 3)\n",
            "(3, 5)\n"
          ]
        }
      ]
    }
  ],
  "metadata": {
    "kernelspec": {
      "display_name": "Python 3",
      "name": "python3"
    },
    "language_info": {
      "codemirror_mode": {
        "name": "ipython",
        "version": 3
      },
      "file_extension": ".py",
      "mimetype": "text/x-python",
      "name": "python",
      "nbconvert_exporter": "python",
      "pygments_lexer": "ipython3",
      "version": "3.10.11"
    },
    "colab": {
      "provenance": [],
      "toc_visible": true
    }
  },
  "nbformat": 4,
  "nbformat_minor": 5
}